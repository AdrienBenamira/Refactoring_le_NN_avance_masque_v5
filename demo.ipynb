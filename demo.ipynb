{
 "cells": [
  {
   "cell_type": "markdown",
   "metadata": {},
   "source": [
    "# Tools"
   ]
  },
  {
   "cell_type": "code",
   "execution_count": 1,
   "metadata": {},
   "outputs": [
    {
     "name": "stdout",
     "output_type": "stream",
     "text": [
      "Cloning into 'Refactoring_le_NN_avance_masque'...\n",
      "Username for 'https://github.com': ^C\n",
      "Looking in indexes: https://pypi.org/simple, https://pypi.ngc.nvidia.com\n",
      "Collecting captum\n",
      "  Downloading captum-0.3.1-py3-none-any.whl (4.4 MB)\n",
      "\u001b[K     |████████████████████████████████| 4.4 MB 10.6 MB/s eta 0:00:01\n",
      "^C\n",
      "\u001b[31mERROR: Operation cancelled by user\u001b[0m\n"
     ]
    },
    {
     "name": "stderr",
     "output_type": "stream",
     "text": [
      "ERROR:root:Internal Python error in the inspect module.\n",
      "Below is the traceback from this internal error.\n",
      "\n",
      "\n",
      "KeyboardInterrupt\n",
      "\n"
     ]
    }
   ],
   "source": [
    "#! git clone https://github.com/AdrienBenamira/Refactoring_le_NN_avance_masque.git\n",
    "#! pip3 install captum\n",
    "#%cd Refactoring_le_NN_avance_masque/"
   ]
  },
  {
   "cell_type": "code",
   "execution_count": 1,
   "metadata": {},
   "outputs": [
    {
     "name": "stdout",
     "output_type": "stream",
     "text": [
      "TODO: MULTITHREADING + ASSERT PATH EXIST DEPEND ON CONDITION + save DDT + deleate some dataset\n",
      "------------------------------------------------------------------------------------------------------------------------------------------------------------------------------------------------------------------------------------------------------------------------------------------------------------\n",
      "\n",
      "Folder save:  ./results/test_v2/speck/5/ctdata0l^ctdata1l_ctdata0r^ctdata1r^ctdata0l^ctdata1l_ctdata0l^ctdata0r_ctdata1l^ctdata1r/2021_03_22_09_27_58_467456/\n",
      "\n",
      "Use Hardware :  cpu\n",
      "\n",
      "LOAD CIPHER\n",
      "\n",
      "------------------------------------------------------------------------------------------------------------------------------------------------------------------------------------------------------------------------------------------------------------------------------------------------------------\n",
      "STEP 1 : LOAD/ TRAIN NN REF\n",
      "\n",
      "COUNTINUOUS LEARNING: False | CURRICULUM LEARNING: False | MODEL: baseline\n",
      "\n",
      "STEP 1 : DONE\n",
      "------------------------------------------------------------------------------------------------------------------------------------------------------------------------------------------------------------------------------------------------------------------------------------------------------------\n",
      "STEP 2 : GET MASKS\n",
      "\n",
      "LOAD MASKS: True | RESEARCH NEW: False | MODEL: ['1, 0.9', '0.9, 0.5', '1, 0.8', '1, 0.5'] ['DeepLift', 'GradientShap', 'FeatureAblation', 'Saliency'] ['abs_sum', 'abs_median', 'abs_mean'] [16, 18] []\n",
      "\n",
      "STEP 2 : DONE\n",
      "------------------------------------------------------------------------------------------------------------------------------------------------------------------------------------------------------------------------------------------------------------------------------------------------------------\n",
      "STEP 3 : MAKE TABLE OF TRUTH\n",
      "\n",
      "NEW DATA: True | PURE ToT: True\n",
      "\n",
      "NUMBER OF SAMPLES IN DDT : 1001424\n",
      "\n",
      "100%|███████████████████████████████████████████| 49/49 [00:06<00:00,  7.42it/s]\n",
      "\n",
      "NUMBER OF ENTRIES IN DDT : 4169511\n",
      "\n",
      "STEP 3 : DONE\n",
      "------------------------------------------------------------------------------------------------------------------------------------------------------------------------------------------------------------------------------------------------------------------------------------------------------------\n",
      "STEP 4 : CREATE DATA PROBA AND CLASSIFY\n",
      "\n",
      "NEW DATA: True\n",
      "\n",
      "\n",
      "NUMBER OF SAMPLES FOR TRAIN : 1000000\n",
      "\n",
      "100%|███████████████████████████████████████████| 49/49 [00:13<00:00,  3.59it/s]\n",
      "\n",
      "NUMBER OF SAMPLES FOR VAL : 5\n",
      "\n",
      "100%|████████████████████████████████████████| 49/49 [00:00<00:00, 32142.77it/s]\n",
      "\n",
      "EVALUATE MODEL NNGOHR ON THIS DATASET ON TRAIN AND VAL\n",
      "\n",
      "100%|███████████████████████████████████████| 2000/2000 [02:08<00:00, 15.55it/s]\n",
      "train Loss: 0.0539\n",
      "train Acc: 0.9286\n",
      "\n",
      "Evaluation complete in 2m 9s\n",
      "\n",
      "100%|█████████████████████████████████████████████| 1/1 [00:00<00:00,  3.16it/s]\n",
      "val Loss: 0.5962\n",
      "val Acc: 0.4000\n",
      "\n",
      "Evaluation complete in 2m 9s\n",
      "\n",
      "START CLASSIFY LGBM\n",
      "\n",
      "[LightGBM] [Warning] Unknown parameter: dart\n",
      "[LightGBM] [Warning] Unknown parameter: bootstrap\n",
      "[LightGBM] [Warning] min_data_in_leaf is set=10, min_child_samples=20 will be ignored. Current value: min_data_in_leaf=10\n"
     ]
    }
   ],
   "source": [
    "! python3 eval.py"
   ]
  },
  {
   "cell_type": "code",
   "execution_count": null,
   "metadata": {},
   "outputs": [],
   "source": []
  }
 ],
 "metadata": {
  "kernelspec": {
   "display_name": "Python 3",
   "language": "python",
   "name": "python3"
  },
  "language_info": {
   "codemirror_mode": {
    "name": "ipython",
    "version": 3
   },
   "file_extension": ".py",
   "mimetype": "text/x-python",
   "name": "python",
   "nbconvert_exporter": "python",
   "pygments_lexer": "ipython3",
   "version": "3.6.9"
  }
 },
 "nbformat": 4,
 "nbformat_minor": 4
}
